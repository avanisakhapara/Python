{
 "cells": [
  {
   "cell_type": "markdown",
   "source": [
    "NumPy Library - nd array creation"
   ],
   "metadata": {}
  },
  {
   "cell_type": "code",
   "execution_count": 1,
   "source": [
    "!pip install numpy"
   ],
   "outputs": [
    {
     "output_type": "stream",
     "name": "stdout",
     "text": [
      "Requirement already satisfied: numpy in c:\\users\\avani\\appdata\\local\\programs\\python\\python39\\lib\\site-packages (1.20.1)"
     ]
    },
    {
     "output_type": "stream",
     "name": "stderr",
     "text": [
      "WARNING: You are using pip version 20.2.3; however, version 21.2.4 is available.\n",
      "You should consider upgrading via the 'c:\\users\\avani\\appdata\\local\\programs\\python\\python39\\python.exe -m pip install --upgrade pip' command.\n"
     ]
    },
    {
     "output_type": "stream",
     "name": "stdout",
     "text": [
      "\n"
     ]
    }
   ],
   "metadata": {}
  },
  {
   "cell_type": "code",
   "execution_count": 4,
   "source": [
    "import numpy as np\r\n",
    "\r\n",
    "x=np.array([[30,40,50],[60,70,80]])\r\n",
    "\r\n",
    "print(x)\r\n",
    "\r\n",
    "print(type(x))\r\n",
    "\r\n",
    "print(x.ndim)\r\n",
    "\r\n",
    "print(x.shape)\r\n",
    "\r\n",
    "print(x.dtype)\r\n",
    "\r\n"
   ],
   "outputs": [
    {
     "output_type": "stream",
     "name": "stdout",
     "text": [
      "[[30 40 50]\n",
      " [60 70 80]]\n",
      "<class 'numpy.ndarray'>\n",
      "2\n",
      "(2, 3)\n",
      "int32\n"
     ]
    }
   ],
   "metadata": {}
  },
  {
   "cell_type": "code",
   "execution_count": 7,
   "source": [
    "print(x[0][1])\r\n",
    "\r\n",
    "\r\n",
    "print(x[0,1])\r\n",
    "\r\n",
    "print(x.sum())"
   ],
   "outputs": [
    {
     "output_type": "stream",
     "name": "stdout",
     "text": [
      "40\n",
      "40\n",
      "330\n"
     ]
    }
   ],
   "metadata": {}
  }
 ],
 "metadata": {
  "orig_nbformat": 4,
  "language_info": {
   "name": "python",
   "version": "3.9.2",
   "mimetype": "text/x-python",
   "codemirror_mode": {
    "name": "ipython",
    "version": 3
   },
   "pygments_lexer": "ipython3",
   "nbconvert_exporter": "python",
   "file_extension": ".py"
  },
  "kernelspec": {
   "name": "python3",
   "display_name": "Python 3.9.2 64-bit"
  },
  "interpreter": {
   "hash": "150797675fbf647ab4224052a5ac6ad0670327c6e4f66de72d90d108ecd5bb42"
  }
 },
 "nbformat": 4,
 "nbformat_minor": 2
}