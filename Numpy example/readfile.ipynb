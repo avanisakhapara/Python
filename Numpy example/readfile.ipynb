{
    "cells": [
        {
            "cell_type": "code",
            "execution_count": 2,
            "source": [
                "import numpy\r\n",
                "\r\n",
                "arr = numpy.array([2,3,4])\r\n",
                "\r\n",
                "print(arr)\r\n",
                "\r\n",
                "print(type(arr))"
            ],
            "outputs": [
                {
                    "output_type": "stream",
                    "name": "stdout",
                    "text": [
                        "[2 3 4]\n",
                        "<class 'numpy.ndarray'>\n"
                    ]
                }
            ],
            "metadata": {}
        }
    ],
    "metadata": {
        "orig_nbformat": 4,
        "language_info": {
            "name": "python",
            "version": "3.9.2",
            "mimetype": "text/x-python",
            "codemirror_mode": {
                "name": "ipython",
                "version": 3
            },
            "pygments_lexer": "ipython3",
            "nbconvert_exporter": "python",
            "file_extension": ".py"
        },
        "kernelspec": {
            "name": "python3",
            "display_name": "Python 3.9.2 64-bit"
        },
        "interpreter": {
            "hash": "150797675fbf647ab4224052a5ac6ad0670327c6e4f66de72d90d108ecd5bb42"
        }
    },
    "nbformat": 4,
    "nbformat_minor": 2
}