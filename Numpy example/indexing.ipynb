{
 "cells": [
  {
   "cell_type": "markdown",
   "source": [
    "basic indexing and slicing [start:end:step]] start to end-1\r\n",
    "numeric indexing"
   ],
   "metadata": {}
  },
  {
   "cell_type": "code",
   "execution_count": 5,
   "source": [
    "import numpy as np\r\n",
    "\r\n",
    "x=np.array([10,20,30,40,50,60,70])\r\n",
    "\r\n",
    "print(x)\r\n",
    "\r\n",
    "print(type(x))\r\n",
    "\r\n",
    "#l=[1,2,5]\r\n",
    "\r\n",
    "#print(x[-6:-2:2])\r\n",
    "\r\n",
    "#print(x[[1,4,5]])\r\n",
    "\r\n",
    "cond = x > 40\r\n",
    "\r\n",
    "print(type(cond))\r\n",
    "\r\n",
    "print(cond)\r\n",
    "\r\n",
    "print(x[cond])\r\n",
    "\r\n",
    "print(type(x[cond]))\r\n",
    "\r\n",
    "print(x[x>40])\r\n",
    "\r\n",
    "\r\n",
    "\r\n",
    "\r\n"
   ],
   "outputs": [
    {
     "output_type": "stream",
     "name": "stdout",
     "text": [
      "[10 20 30 40 50 60 70]\n",
      "<class 'numpy.ndarray'>\n",
      "<class 'numpy.ndarray'>\n",
      "[False False False False  True  True  True]\n",
      "[50 60 70]\n",
      "<class 'numpy.ndarray'>\n",
      "[50 60 70]\n"
     ]
    }
   ],
   "metadata": {}
  },
  {
   "cell_type": "code",
   "execution_count": 6,
   "source": [
    "y = np.array([[10,20,30],[40,50,60],[70,80,90]])\r\n",
    "\r\n",
    "print(y.ndim)\r\n",
    "\r\n",
    "print(y.shape)\r\n",
    "\r\n",
    "print(y)\r\n",
    "\r\n",
    "# print(y[0][1])\r\n",
    "\r\n",
    "# print(y[0,1])\r\n",
    "\r\n",
    "# print(y[:2,:2])\r\n",
    "\r\n",
    "# print(y[[0,2],[0,1]])\r\n",
    "\r\n",
    "print(y[y>30])\r\n",
    "\r\n",
    "\r\n"
   ],
   "outputs": [
    {
     "output_type": "stream",
     "name": "stdout",
     "text": [
      "2\n",
      "(3, 3)\n",
      "[[10 20 30]\n",
      " [40 50 60]\n",
      " [70 80 90]]\n",
      "[40 50 60 70 80 90]\n"
     ]
    }
   ],
   "metadata": {}
  },
  {
   "cell_type": "markdown",
   "source": [
    "where()\r\n",
    "\r\n",
    "ter = x if cond else y"
   ],
   "metadata": {}
  },
  {
   "cell_type": "code",
   "execution_count": 9,
   "source": [
    "print(y)\r\n",
    "\r\n",
    "arr= np.where(y>30, 1, 0)\r\n",
    "\r\n",
    "print(arr)\r\n",
    "\r\n",
    "arr1= np.where(y>30, y, 0)\r\n",
    "\r\n",
    "print(arr1)\r\n",
    "\r\n"
   ],
   "outputs": [
    {
     "output_type": "stream",
     "name": "stdout",
     "text": [
      "[[10 20 30]\n",
      " [40 50 60]\n",
      " [70 80 90]]\n",
      "[[0 0 0]\n",
      " [1 1 1]\n",
      " [1 1 1]]\n"
     ]
    }
   ],
   "metadata": {}
  },
  {
   "cell_type": "code",
   "execution_count": 22,
   "source": [
    "z=np.array([[10,20],[30,40],[np.nan,50]])\r\n",
    "\r\n",
    "print(z)\r\n",
    "\r\n",
    "print(type(z))\r\n",
    "\r\n",
    "s=np.isnan(z)\r\n",
    "\r\n",
    "print(s)\r\n",
    "\r\n",
    "print(z[s])"
   ],
   "outputs": [
    {
     "output_type": "stream",
     "name": "stdout",
     "text": [
      "[[10. 20.]\n",
      " [30. 40.]\n",
      " [nan 50.]]\n",
      "<class 'numpy.ndarray'>\n",
      "[[False False]\n",
      " [False False]\n",
      " [ True False]]\n",
      "[nan]\n"
     ]
    }
   ],
   "metadata": {}
  }
 ],
 "metadata": {
  "orig_nbformat": 4,
  "language_info": {
   "name": "python",
   "version": "3.9.2",
   "mimetype": "text/x-python",
   "codemirror_mode": {
    "name": "ipython",
    "version": 3
   },
   "pygments_lexer": "ipython3",
   "nbconvert_exporter": "python",
   "file_extension": ".py"
  },
  "kernelspec": {
   "name": "python3",
   "display_name": "Python 3.9.2 64-bit"
  },
  "interpreter": {
   "hash": "150797675fbf647ab4224052a5ac6ad0670327c6e4f66de72d90d108ecd5bb42"
  }
 },
 "nbformat": 4,
 "nbformat_minor": 2
}