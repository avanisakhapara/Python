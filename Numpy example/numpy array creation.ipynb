{
 "cells": [
  {
   "cell_type": "markdown",
   "source": [
    "Starting with Numpy"
   ],
   "metadata": {}
  },
  {
   "cell_type": "markdown",
   "source": [
    "Methods to create numpy array/nd array"
   ],
   "metadata": {}
  },
  {
   "cell_type": "code",
   "execution_count": 2,
   "source": [
    "import numpy\r\n",
    "\r\n",
    "arr = numpy.array([3,4,5])\r\n",
    "\r\n",
    "print(arr)\r\n",
    "\r\n",
    "print(type(arr))\r\n",
    "\r\n",
    "print(arr.ndim)#axes 0 -1st dimen, 1- 2nd dimen\r\n",
    "\r\n",
    "print(arr.shape)"
   ],
   "outputs": [
    {
     "output_type": "stream",
     "name": "stdout",
     "text": [
      "[3 4 5]\n",
      "<class 'numpy.ndarray'>\n",
      "1\n",
      "(3,)\n"
     ]
    }
   ],
   "metadata": {}
  },
  {
   "cell_type": "code",
   "execution_count": 3,
   "source": [
    "import numpy as np\r\n",
    "\r\n",
    "arr = np.array([[1,2,3],[4,5,600000000000]])\r\n",
    "\r\n",
    "print(arr)\r\n",
    "\r\n",
    "print(type(arr))\r\n",
    "\r\n",
    "print(arr.ndim)#axes 0 -1st dimen, 1- 2nd dimen\r\n",
    "\r\n",
    "print(arr.shape)\r\n",
    "\r\n",
    "print(arr.dtype)"
   ],
   "outputs": [
    {
     "output_type": "stream",
     "name": "stdout",
     "text": [
      "[[1 2 3]\n",
      " [4 5 6]]\n",
      "<class 'numpy.ndarray'>\n",
      "2\n",
      "(2, 3)\n",
      "int32\n"
     ]
    }
   ],
   "metadata": {}
  }
 ],
 "metadata": {
  "orig_nbformat": 4,
  "language_info": {
   "name": "python",
   "version": "3.9.2",
   "mimetype": "text/x-python",
   "codemirror_mode": {
    "name": "ipython",
    "version": 3
   },
   "pygments_lexer": "ipython3",
   "nbconvert_exporter": "python",
   "file_extension": ".py"
  },
  "kernelspec": {
   "name": "python3",
   "display_name": "Python 3.9.2 64-bit"
  },
  "interpreter": {
   "hash": "150797675fbf647ab4224052a5ac6ad0670327c6e4f66de72d90d108ecd5bb42"
  }
 },
 "nbformat": 4,
 "nbformat_minor": 2
}