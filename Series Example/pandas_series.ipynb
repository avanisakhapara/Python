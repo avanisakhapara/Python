{
  "nbformat": 4,
  "nbformat_minor": 2,
  "metadata": {
    "colab": {
      "name": "pandas_series.ipynb",
      "provenance": []
    },
    "kernelspec": {
      "name": "python3",
      "display_name": "Python 3.9.2 64-bit"
    },
    "language_info": {
      "name": "python",
      "version": "3.9.2",
      "mimetype": "text/x-python",
      "codemirror_mode": {
        "name": "ipython",
        "version": 3
      },
      "pygments_lexer": "ipython3",
      "nbconvert_exporter": "python",
      "file_extension": ".py"
    },
    "interpreter": {
      "hash": "150797675fbf647ab4224052a5ac6ad0670327c6e4f66de72d90d108ecd5bb42"
    }
  },
  "cells": [
    {
      "cell_type": "markdown",
      "source": [
        "Pandas Library\n",
        "Series - 1D array homogeneous fixed size - labelled data\n",
        "DataFrame\n",
        "Panel"
      ],
      "metadata": {
        "id": "oe2C2ykdKzoc"
      }
    },
    {
      "cell_type": "code",
      "execution_count": 7,
      "source": [
        "import pandas as pd\r\n",
        "#import numpy as np\r\n",
        "# a=pd.Series()#empty\r\n",
        "\r\n",
        "# print(a)\r\n",
        "\r\n",
        "# a=pd.Series([11,22,33,44,50.34])\r\n",
        "# print(a)\r\n",
        "\r\n",
        "a=pd.Series([11,22,33,44,50.34],index=[101,203,304,213,301])\r\n",
        "print(a)\r\n",
        "\r\n",
        "print(a[203:213])#33.00\r\n",
        "#print(a[2])\r\n",
        "print(a.iloc[2])\r\n",
        "\r\n",
        "#x=np.array([12,13,14])\r\n",
        "#a=pd.Series(x)\r\n",
        "\r\n",
        "#a=pd.Series(9,index=[1,2,3])\r\n",
        "\r\n",
        "#a=pd.Series({'a':67,'b':89,'c':30,'d':45})\r\n",
        "\r\n",
        "#a=pd.Series({'a':67,'b':89,'c':30,'d':45},index=['b','y','x'])\r\n",
        "\r\n",
        "#print(a)\r\n",
        "\r\n",
        "#print(a['b'])\r\n",
        "#print(a.shape)\r\n",
        "#print(a[3]) #44.00\r\n",
        "#print(a['d']) #44.00\r\n",
        "\r\n",
        "#print(type(a['d']))\r\n",
        "\r\n",
        "#print(a[:3])#startindex : stopindex-1:step\r\n",
        "#print(type(a[2:]))\r\n",
        "#print(a[1])\r\n",
        "#print(a['b'])"
      ],
      "outputs": [
        {
          "output_type": "stream",
          "name": "stdout",
          "text": [
            "101    11.00\n",
            "203    22.00\n",
            "304    33.00\n",
            "213    44.00\n",
            "301    50.34\n",
            "dtype: float64\n",
            "33.0\n",
            "33.0\n"
          ]
        }
      ],
      "metadata": {
        "colab": {
          "base_uri": "https://localhost:8080/"
        },
        "id": "r0UtmGE1J_8d",
        "outputId": "e7be6761-e97a-43b4-9ec3-e255c09a3317"
      }
    }
  ]
}