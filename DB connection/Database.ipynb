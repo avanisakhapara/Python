{
 "cells": [
  {
   "cell_type": "code",
   "execution_count": 1,
   "source": [
    "!pip install mysql-connector\r\n"
   ],
   "outputs": [
    {
     "output_type": "stream",
     "name": "stdout",
     "text": [
      "Requirement already satisfied: mysql-connector in c:\\users\\avani\\appdata\\local\\programs\\python\\python39\\lib\\site-packages (2.2.9)"
     ]
    },
    {
     "output_type": "stream",
     "name": "stderr",
     "text": [
      "WARNING: You are using pip version 20.2.3; however, version 21.3.1 is available.\n",
      "You should consider upgrading via the 'c:\\users\\avani\\appdata\\local\\programs\\python\\python39\\python.exe -m pip install --upgrade pip' command.\n"
     ]
    },
    {
     "output_type": "stream",
     "name": "stdout",
     "text": [
      "\n"
     ]
    }
   ],
   "metadata": {}
  },
  {
   "cell_type": "code",
   "execution_count": 2,
   "source": [
    "# In MySQL, by default, the username is root and there's no password. \r\n",
    "\r\n",
    "# Steps to carry out CRUD operations using python\r\n",
    "#install driver->\r\n",
    "# 1. load the driver->\r\n",
    "# 2. establish connection with Db system->\r\n",
    "# 3. CREATE A CURSOR OBJECT\r\n",
    "# 4. write query stmt->\r\n",
    "# 5. excecute query stmt using cursor object->\r\n",
    "# 6. retrieve the result from cursor object->\r\n",
    "# 7. display the result\r\n",
    "\r\n",
    "import mysql.connector as sqlcon\r\n",
    "\r\n",
    "con = sqlcon.connect(\r\n",
    "  host=\"localhost\",\r\n",
    "  user=\"root\",\r\n",
    "  passwd=\"\"\r\n",
    ")\r\n",
    "\r\n",
    "print(con)\r\n",
    "print(con.connection_id)"
   ],
   "outputs": [
    {
     "output_type": "stream",
     "name": "stdout",
     "text": [
      "<mysql.connector.connection.MySQLConnection object at 0x000000E945BD63A0>\n",
      "96\n"
     ]
    }
   ],
   "metadata": {}
  },
  {
   "cell_type": "code",
   "execution_count": 3,
   "source": [
    "#Python MySQL Create Database\r\n",
    "\r\n",
    "# create cursor object\r\n",
    "mycursor = con.cursor()\r\n",
    "\r\n",
    "print(type(mycursor))\r\n",
    "\r\n",
    "#execute the query and stores result in cursor object\r\n",
    "mycursor.execute(\"show databases\")\r\n",
    "\r\n",
    "#retrieve result data from cursor object and display it\r\n",
    "for x in mycursor:\r\n",
    "    print(x)\r\n"
   ],
   "outputs": [
    {
     "output_type": "stream",
     "name": "stdout",
     "text": [
      "<class 'mysql.connector.cursor.MySQLCursor'>\n",
      "('accounts',)\n",
      "('class',)\n",
      "('college',)\n",
      "('crudop_db',)\n",
      "('demodb',)\n",
      "('electronic',)\n",
      "('furniture',)\n",
      "('iitb',)\n",
      "('information_schema',)\n",
      "('mysql',)\n",
      "('performance_schema',)\n",
      "('phpmyadmin',)\n",
      "('product_db',)\n",
      "('student_info',)\n",
      "('test',)\n",
      "('testdb',)\n"
     ]
    }
   ],
   "metadata": {}
  },
  {
   "cell_type": "code",
   "execution_count": 9,
   "source": [
    "import mysql.connector\r\n",
    "\r\n",
    "mydb = mysql.connector.MySQLConnection(\r\n",
    "  host=\"localhost\",\r\n",
    "  user=\"root\",\r\n",
    "  password=\"\"\r\n",
    ")\r\n",
    "\r\n",
    "print(mydb)"
   ],
   "outputs": [
    {
     "output_type": "stream",
     "name": "stdout",
     "text": [
      "<mysql.connector.connection.MySQLConnection object at 0x000000E5B420ECD0>\n"
     ]
    }
   ],
   "metadata": {
    "scrolled": true
   }
  },
  {
   "cell_type": "code",
   "execution_count": 4,
   "source": [
    "#Python MySQL Create Table\r\n",
    "import mysql.connector\r\n",
    "\r\n",
    "#Establish Connection\r\n",
    "\r\n",
    "conn = mysql.connector.connect(\r\n",
    "  host=\"localhost\",\r\n",
    "  user=\"root\",\r\n",
    "  password=\"\",\r\n",
    "  database=\"emp\"\r\n",
    ")\r\n",
    "\r\n",
    "#create cursor object for connection\r\n",
    "mycursor = conn.cursor()\r\n",
    "\r\n",
    "#create query statement\r\n",
    "sql = \"CREATE TABLE dept(dept_name VARCHAR(255), no_of_emp INT,  no_of_projects INT)\"\r\n",
    " \r\n",
    "#execute query    \r\n",
    "mycursor.execute(sql)\r\n",
    "\r\n",
    "#close the connection\r\n",
    "conn.close()"
   ],
   "outputs": [],
   "metadata": {}
  },
  {
   "cell_type": "code",
   "execution_count": 7,
   "source": [
    "#retrieving info from table\r\n",
    "\r\n",
    "#Establish Connection\r\n",
    "\r\n",
    "conn = mysql.connector.connect(\r\n",
    "  host=\"localhost\",\r\n",
    "  user=\"root\",\r\n",
    "  password=\"\",\r\n",
    "  database=\"emp\"\r\n",
    ")\r\n",
    "\r\n",
    "#create cursor object for connection\r\n",
    "mycursor = conn.cursor()\r\n",
    "\r\n",
    "#Inserting data in table\r\n",
    "\r\n",
    "#create insert query statement\r\n",
    "#sql = \"insert into dept values('mobile app',25,4)\"\r\n",
    "sql = \"insert into dept values(%s,%s,%s)\" \r\n",
    "\r\n",
    "dn = \"cloud computing\"\r\n",
    "en = 23\r\n",
    "np = 17\r\n",
    "\r\n",
    "val = (dn,en, np)\r\n",
    "\r\n",
    "# val = [\r\n",
    "#     ('digital marketing',23,5),\r\n",
    "#     ('ERP',12,1),\r\n",
    "#     ('E-commerce',17,2)\r\n",
    "# ]\r\n",
    "\r\n",
    "try:\r\n",
    "\r\n",
    "    # vimp -> here execute() carries out insert operation only on cursor object and not on actual table in mysql \r\n",
    "    mycursor.execute(sql,val)\r\n",
    "    #mycursor.executemany(sql,val)\r\n",
    "\r\n",
    "    #vimp -> using commit() insert operation is carried out on actual table in mysql\r\n",
    "    conn.commit()\r\n",
    "    \r\n",
    "except:\r\n",
    "    conn.rollback()\r\n",
    "    print(\"inside except block\")\r\n",
    "\r\n",
    "print(\"record inserted check\")\r\n",
    "\r\n",
    "\r\n",
    "#update dept set no_of_emp = %s where dept_name = %s\r\n",
    "#val = (30,'marketing')\r\n",
    "\r\n",
    "    \r\n",
    "#create query statement\r\n",
    "sql = \"SELECT * FROM dept\"\r\n",
    "\r\n",
    "#execute query and store data in cursor object\r\n",
    "mycursor.execute(sql)\r\n",
    "#print(type(mycursor))\r\n",
    "\r\n",
    "#fetch data from cursor object and store it in new object\r\n",
    "result = mycursor.fetchall()\r\n",
    "print(type(result))\r\n",
    "\r\n",
    "#result = mycursor.fetchmany(size=2)\r\n",
    "\r\n",
    "#result = mycursor.fetchone()\r\n",
    "#print(type(result))\r\n",
    "#print(result)\r\n",
    "\r\n",
    "#display query result\r\n",
    "for x in result:\r\n",
    "   print(x)\r\n",
    "\r\n",
    "conn.close()"
   ],
   "outputs": [
    {
     "output_type": "stream",
     "name": "stdout",
     "text": [
      "record inserted check\n",
      "<class 'list'>\n",
      "('cloud computing', 23, 17)\n",
      "('digital marketing', 23, 5)\n",
      "('ERP', 12, 1)\n",
      "('E-commerce', 17, 2)\n"
     ]
    }
   ],
   "metadata": {}
  },
  {
   "cell_type": "code",
   "execution_count": 22,
   "source": [
    "\r\n",
    "\r\n",
    "#Python MySQL Insert single record\r\n",
    "sql = \"INSERT INTO emp_info (first_name, last_name, age) VALUES ('trudy','dsouza',12)\"\r\n",
    "#val = (\"alice\", \"seqera\", 22)\r\n",
    "\r\n",
    "mycursor.execute(sql)\r\n",
    "\r\n",
    "mydb.commit()\r\n",
    "\r\n",
    "print(mycursor.rowcount, \"record inserted.\")"
   ],
   "outputs": [
    {
     "output_type": "stream",
     "name": "stdout",
     "text": [
      "1 record inserted.\n"
     ]
    }
   ],
   "metadata": {}
  }
 ],
 "metadata": {
  "kernelspec": {
   "name": "python3",
   "display_name": "Python 3.9.2 64-bit"
  },
  "language_info": {
   "codemirror_mode": {
    "name": "ipython",
    "version": 3
   },
   "file_extension": ".py",
   "mimetype": "text/x-python",
   "name": "python",
   "nbconvert_exporter": "python",
   "pygments_lexer": "ipython3",
   "version": "3.9.2"
  },
  "interpreter": {
   "hash": "150797675fbf647ab4224052a5ac6ad0670327c6e4f66de72d90d108ecd5bb42"
  }
 },
 "nbformat": 4,
 "nbformat_minor": 2
}